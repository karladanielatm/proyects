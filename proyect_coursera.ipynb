{
 "cells": [
  {
   "cell_type": "markdown",
   "metadata": {},
   "source": [
    "<center>\n",
    "    <img src=\"https://cf-courses-data.s3.us.cloud-object-storage.appdomain.cloud/IBMDeveloperSkillsNetwork-DS0105EN-SkillsNetwork/labs/Module2/images/SN_web_lightmode.png\" width=\"300\" alt=\"cognitiveclass.ai logo\">\n",
    "</center>\n"
   ]
  },
  {
   "cell_type": "markdown",
   "metadata": {},
   "source": [
    "#### Add your code below following the instructions given in the course\n"
   ]
  },
  {
   "cell_type": "code",
   "execution_count": 1,
   "metadata": {
    "tags": []
   },
   "outputs": [],
   "source": [
    "from IPython.display import Markdown, display"
   ]
  },
  {
   "cell_type": "markdown",
   "metadata": {
    "tags": []
   },
   "source": [
    "# Data Science Tools and Ecosystem"
   ]
  },
  {
   "cell_type": "markdown",
   "metadata": {
    "tags": []
   },
   "source": [
    "In this notebook, Data Science Tools and Ecosystem are summarized."
   ]
  },
  {
   "cell_type": "markdown",
   "metadata": {},
   "source": [
    "## Objectives:\n",
    "## - Descubrimiento de Información y Extracción de Conocimiento:\n",
    "    1. Extraer información valiosa y conocimiento útil de grandes conjuntos de datos.\n",
    "    2. Descubrir ideas o tendencias ocultas que puedan ser beneficiosas para la organización.\n",
    "## - Optimización y Mejora de Procesos:\n",
    "    1. Utilizar datos para optimizar procesos empresariales o industriales.\n",
    "    2. Identificar áreas de mejora y tomar decisiones basadas en datos para optimizar resultados.\n",
    "## - Visualización y Comunicación de Datos:\n",
    "    1. Crear visualizaciones efectivas para comunicar hallazgos y resultados.\n",
    "    2. Ayudar a las partes interesadas a comprender y tomar decisiones basadas en los datos presentados."
   ]
  },
  {
   "cell_type": "markdown",
   "metadata": {},
   "source": [
    "Some of the popular languages that Data Scientists use are:\n",
    "1. Python\n",
    "2. R\n",
    "3. Julia"
   ]
  },
  {
   "cell_type": "markdown",
   "metadata": {
    "tags": []
   },
   "source": [
    "Data Science Tools:\n",
    "- Pandas\n",
    "- NumPy\n",
    "- Matplotlib\n",
    "- Scikit-learn"
   ]
  },
  {
   "cell_type": "markdown",
   "metadata": {},
   "source": [
    "Below are a few examples of evaluating arithmetic expressions in Python"
   ]
  },
  {
   "cell_type": "code",
   "execution_count": 2,
   "metadata": {
    "tags": []
   },
   "outputs": [
    {
     "data": {
      "text/markdown": [
       "\n",
       "### Herramientas de Ciencia de Datos\n",
       "\n",
       "| Herramienta       | Descripción                      |\n",
       "|-------------------|----------------------------------|\n",
       "| Jupyter Notebook  | Entorno interactivo de análisis   |\n",
       "| TensorFlow        | Librería de aprendizaje automático|\n",
       "| PyTorch           | Framework para redes neuronales  |\n"
      ],
      "text/plain": [
       "<IPython.core.display.Markdown object>"
      ]
     },
     "metadata": {},
     "output_type": "display_data"
    }
   ],
   "source": [
    "tools_table_markdown = \"\"\"\n",
    "### Herramientas de Ciencia de Datos\n",
    "\n",
    "| Herramienta       | Descripción                      |\n",
    "|-------------------|----------------------------------|\n",
    "| Jupyter Notebook  | Entorno interactivo de análisis   |\n",
    "| TensorFlow        | Librería de aprendizaje automático|\n",
    "| PyTorch           | Framework para redes neuronales  |\n",
    "\"\"\"\n",
    "display(Markdown(tools_table_markdown))"
   ]
  },
  {
   "cell_type": "markdown",
   "metadata": {},
   "source": [
    "Below are a few examples of evaluating arithmetic expressions in Python"
   ]
  },
  {
   "cell_type": "code",
   "execution_count": 3,
   "metadata": {
    "tags": []
   },
   "outputs": [
    {
     "data": {
      "text/markdown": [
       "\n",
       "### Ejemplos de Expresiones Aritméticas\n",
       "- Suma: ( 3 + 4 )\n",
       "- Multiplicación: ( 3 * 4 )\n",
       "- División: ( 10 / 2 )\n"
      ],
      "text/plain": [
       "<IPython.core.display.Markdown object>"
      ]
     },
     "metadata": {},
     "output_type": "display_data"
    }
   ],
   "source": [
    "expressions_markdown = \"\"\"\n",
    "### Ejemplos de Expresiones Aritméticas\n",
    "- Suma: ( 3 + 4 )\n",
    "- Multiplicación: ( 3 * 4 )\n",
    "- División: ( 10 / 2 )\n",
    "\"\"\"\n",
    "display(Markdown(expressions_markdown))"
   ]
  },
  {
   "cell_type": "markdown",
   "metadata": {},
   "source": [
    "This a simple arithmetic expression to mutiply then add integers"
   ]
  },
  {
   "cell_type": "code",
   "execution_count": 4,
   "metadata": {
    "tags": []
   },
   "outputs": [
    {
     "name": "stdout",
     "output_type": "stream",
     "text": [
      "Resultado de la operación (3 * 4 + 5): 17\n"
     ]
    }
   ],
   "source": [
    "resultado = 3 * 4 + 5\n",
    "print(\"Resultado de la operación (3 * 4 + 5):\", resultado)"
   ]
  },
  {
   "cell_type": "markdown",
   "metadata": {},
   "source": [
    "This will convert 200 minutes to hours by diving by 60"
   ]
  },
  {
   "cell_type": "code",
   "execution_count": 5,
   "metadata": {
    "tags": []
   },
   "outputs": [
    {
     "name": "stdout",
     "output_type": "stream",
     "text": [
      "200 minutos equivalen a 3.3333333333333335 horas\n"
     ]
    }
   ],
   "source": [
    "# Ejercicio 9 - Convertir Minutos en Horas\n",
    "def convertir_minutos_a_horas(minutos):\n",
    "    horas = minutos / 60\n",
    "    return horas\n",
    "minutos_totales = 200\n",
    "horas_convertidas = convertir_minutos_a_horas(minutos_totales)\n",
    "print(f\"{minutos_totales} minutos equivalen a {horas_convertidas} horas\")"
   ]
  },
  {
   "cell_type": "code",
   "execution_count": null,
   "metadata": {},
   "outputs": [],
   "source": []
  },
  {
   "cell_type": "code",
   "execution_count": 8,
   "metadata": {
    "tags": []
   },
   "outputs": [
    {
     "data": {
      "text/markdown": [
       "## Autor: \n",
       " Karla Trejo"
      ],
      "text/plain": [
       "<IPython.core.display.Markdown object>"
      ]
     },
     "metadata": {},
     "output_type": "display_data"
    }
   ],
   "source": [
    "author_markdown = \"## Autor: \\n Karla Trejo\"\n",
    "display(Markdown(author_markdown))"
   ]
  },
  {
   "cell_type": "code",
   "execution_count": null,
   "metadata": {},
   "outputs": [],
   "source": []
  },
  {
   "cell_type": "code",
   "execution_count": null,
   "metadata": {},
   "outputs": [],
   "source": []
  }
 ],
 "metadata": {
  "kernelspec": {
   "display_name": "Python",
   "language": "python",
   "name": "conda-env-python-py"
  },
  "language_info": {
   "codemirror_mode": {
    "name": "ipython",
    "version": 3
   },
   "file_extension": ".py",
   "mimetype": "text/x-python",
   "name": "python",
   "nbconvert_exporter": "python",
   "pygments_lexer": "ipython3",
   "version": "3.7.12"
  }
 },
 "nbformat": 4,
 "nbformat_minor": 4
}
